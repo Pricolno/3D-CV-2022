{
 "cells": [
  {
   "cell_type": "markdown",
   "metadata": {},
   "source": [
    "# Введение\n",
    "Перед вами небольшой класс – реализация [модели pinhole камеры использующейся в OpenCV](https://docs.opencv.org/2.4/modules/calib3d/doc/camera_calibration_and_3d_reconstruction.html).\n",
    "Чтобы было нагляднее вся математика написана напрямую. В дз лучше использовать методы OpenCV (например `cv2.projectPoints`)."
   ]
  },
  {
   "cell_type": "code",
   "execution_count": null,
   "metadata": {},
   "outputs": [],
   "source": [
    "import numpy as np\n",
    "\n",
    "\n",
    "class OpenCvCamera:\n",
    "    def __init__(self, f, resolution_px):\n",
    "        # fx == fx == f. Во всех камерах что мы будем использовать физические пиксели всегда будут квадратные\n",
    "        self.f = f \n",
    "        \n",
    "        # В нашем случае resolution это размеры изображений, которые соответствуют этой камере\n",
    "        # img.shape == (self.resolution_y, self.resolution_x)\n",
    "        self.resolution_x, self.resolution_y = resolution_px\n",
    "        \n",
    "        # Во всех изображениях что мы будем использовать центр изображения, \n",
    "        # через который проходит оптическая ось камеры, всегда будет в центральном пикселе\n",
    "        # Это может быть не так если, например, мы бы работали с обрезанным изображением\n",
    "        self.cx = self.resolution_x / 2\n",
    "        self.cy = self.resolution_y / 2\n",
    "    \n",
    "    def proj(self, p):\n",
    "        # возвращает 2d проекцию 3D точки `p`\n",
    "        return np.array([self.f * p[0] / p[2] + self.cx, self.f * p[1] / p[2] + self.cy])\n",
    "\n",
    "    def __str__(self):\n",
    "        return ('OpenCvCamera [fx = fx = %.1f px, cx = %.1f px, cy = %.1f px, resolution = %d x %d px]' % \n",
    "                (self.f, self.cx, self.cy, self.resolution_x, self.resolution_y))\n"
   ]
  },
  {
   "cell_type": "markdown",
   "metadata": {},
   "source": [
    "# Задание 1\n",
    "Напишите функцию `camera_from_physical_parameters`, которая по заданным параметрам создает соответствующий объект класса `OpenCvCamera`.\n",
    "\n",
    "Так как у нас `fx == fx == f` ожидается что соотношение сторон сенсора и изображения одинаковы."
   ]
  },
  {
   "cell_type": "code",
   "execution_count": null,
   "metadata": {},
   "outputs": [],
   "source": [
    "def camera_from_physical_parameters(focal_length_mm: float, sensor_wh_mm: tuple, resolution_px: tuple):\n",
    "    pass\n",
    "\n",
    "\n",
    "assert(np.isclose(camera_from_physical_parameters(1, (1, 1), (100, 100)).f, 100))"
   ]
  },
  {
   "cell_type": "markdown",
   "metadata": {},
   "source": [
    "Перед вами пример типичной full-frame камеры. 35mm full-frame это один из [популярных размеров сенсора](https://en.wikipedia.org/wiki/Image_sensor_format#Table_of_sensor_formats_and_sizes).\n",
    "\n",
    "Это камера с сенсором 35mm full-frame размера `36x24мм`, разрешением фотографий `6240x4160` пикселей, и объективом с выставленным значением фокусного расстояния `45` мм.\n",
    "\n",
    "Например камера [Canon EOS 6D Mark II](https://en.wikipedia.org/wiki/Canon_EOS_6D_Mark_II) с объективом [Canon EF 24-70 мм](https://en.wikipedia.org/wiki/Canon_EF_24–70mm_lens)"
   ]
  },
  {
   "cell_type": "code",
   "execution_count": null,
   "metadata": {},
   "outputs": [],
   "source": [
    "canon_6d_mark_ii_45 = camera_from_physical_parameters(45, (36, 24), (6240, 4160))\n",
    "print(canon_6d_mark_ii_45)\n",
    "\n",
    "print('Допустим все 3d координаты в метрах')\n",
    "print('Точка в 3 метрах перед камерой будет в центральном пикселе %s' % canon_6d_mark_ii_45.proj((0, 0, 3)))\n",
    "print('Точка в 3 метрах перед камерой и 1 метром правее '\n",
    "      'будет в пикселе %s. На границе изображения' % canon_6d_mark_ii_45.proj((1, 0, 3)))\n",
    "print('А точка в 3 метрах перед камерой и 1 метром выше '\n",
    "      'будет в пикселе %s. Вне изображения' % canon_6d_mark_ii_45.proj((0, -1, 3)))"
   ]
  },
  {
   "cell_type": "markdown",
   "metadata": {},
   "source": [
    "Еще один пример. Камера iPhone Xs."
   ]
  },
  {
   "cell_type": "code",
   "execution_count": null,
   "metadata": {},
   "outputs": [],
   "source": [
    "iphone_xs_main_camera = camera_from_physical_parameters(4.25, (5.64, 4.23), (4032, 3024))\n",
    "print(iphone_xs_main_camera)\n",
    "\n",
    "print('Точка в 3 метрах перед камерой и 1 метром правее '\n",
    "      'будет в пикселе %s. Справа в центре' % iphone_xs_main_camera.proj((1, 0, 3)))\n",
    "print('А точка в 3 метрах перед камерой и 1 метром выше '\n",
    "      'будет в пикселе %s. Сверху в центре' % iphone_xs_main_camera.proj((0, -1, 3)))"
   ]
  },
  {
   "cell_type": "markdown",
   "metadata": {},
   "source": [
    "# Задание 2\n",
    "Напишите функцию `compute_camera_fov`, которая для заданной `camera` возвращает горизонтальный и вертикальный FoV (field of view) в радианах."
   ]
  },
  {
   "cell_type": "code",
   "execution_count": null,
   "metadata": {},
   "outputs": [],
   "source": [
    "def compute_camera_fov(camera: OpenCvCamera):\n",
    "    pass\n",
    "\n",
    "_test_camera = camera_from_physical_parameters(0.5, (1, 1), (100, 100))\n",
    "assert(np.all(np.isclose(np.degrees(compute_camera_fov(_test_camera)), (90, 90))))\n",
    "\n",
    "print('canon_6d_mark_ii_45 (fov_x, fov_x) = %s degrees' % np.degrees(compute_camera_fov(canon_6d_mark_ii_45)))\n",
    "print('iphone_xs_main_camera (fov_x, fov_x) = %s degrees' % np.degrees(compute_camera_fov(iphone_xs_main_camera)))"
   ]
  },
  {
   "cell_type": "markdown",
   "metadata": {},
   "source": [
    "# Задание 3\n",
    "Напишите функцию `compute_camera_fl`, обратную `compute_camera_fov`. \n",
    "Функция `compute_camera_fl` принимает на вход `sensor_wh_mm` и `fov` в радианах и возвращает два значения `fl` чтобы получить заданный `fov` по горизонтали и вертикали соответственно."
   ]
  },
  {
   "cell_type": "code",
   "execution_count": null,
   "metadata": {},
   "outputs": [],
   "source": [
    "def compute_camera_fl(sensor_wh_mm: tuple, fov: float):\n",
    "    pass\n",
    "\n",
    "assert(np.all(np.isclose(compute_camera_fl((1, 1), np.radians(90)), (0.5, 0.5))))\n",
    "\n",
    "print('Для того чтобы на fullframe камере получить горизонтальное '\n",
    "      'поле зрения как у iPhone Xs\\nнужно использовать объектив с '\n",
    "      'фокусным расстоянием %f мм' % compute_camera_fl((36, 24), np.radians(67.13))[0])\n",
    "print('Для того чтобы на fullframe камере получить вертикальное '\n",
    "      'поле зрения как у iPhone Xs\\nнужно использовать объектив с '\n",
    "      'фокусным расстоянием %f мм' % compute_camera_fl((36, 24), np.radians(52.91419765))[1])"
   ]
  },
  {
   "cell_type": "markdown",
   "metadata": {},
   "source": [
    "То что мы посчитали выше называется [35мм эквивалентным фокусным расстоянием](https://en.wikipedia.org/wiki/35_mm_equivalent_focal_length). Можно считать по горизонтали, вертикали или по диагонали. При разном соотношении сторон значения будут разные.\n",
    "\n",
    "Так в своей рекламе Apple писали \"The iPhone XS wide-angle lens has an equivalent focal length of 26mm\"."
   ]
  },
  {
   "cell_type": "markdown",
   "metadata": {},
   "source": [
    "# Задание 4\n",
    "Напишите функцию `camera_from_fov`, которая по заданным параметрам создает соответствующий объект класса `OpenCvCamera`."
   ]
  },
  {
   "cell_type": "code",
   "execution_count": null,
   "metadata": {},
   "outputs": [],
   "source": [
    "def camera_from_fov(fov_x: float, resolution_px: tuple):\n",
    "    pass\n",
    "\n",
    "assert(np.isclose(camera_from_fov(np.radians(90), (100, 300)).f, 50))"
   ]
  },
  {
   "cell_type": "markdown",
   "metadata": {},
   "source": [
    "# Задание 5\n",
    "Напишите функции\n",
    "- `transform` – трансформирует 3D точку с помощью заданной трансформации (матрицы поворота и параллельного переноса);\n",
    "- `compose_transforms` – возвращает трансформацию (пару из матрицы поворота и параллельного переноса), эквиванентную последовательному применению двух заданных трансформаций;\n",
    "- `inverse_transform` – возвращает трансформацию, обратную заданной (тоесть при применений `transform` сначала исходной трансформацией, потом этой, точка останеться на месте).\n"
   ]
  },
  {
   "cell_type": "code",
   "execution_count": null,
   "metadata": {},
   "outputs": [],
   "source": [
    "def transform(point_3d: np.array, rot_mat: np.array, translation: np.array):\n",
    "    pass\n",
    "\n",
    "def compose_transforms(rot_mat1: np.array, translation1: np.array, rot_mat2: np.array, translation2: np.array):\n",
    "    pass\n",
    "\n",
    "def inverse_transform(rot_mat: np.array, translation: np.array):\n",
    "    pass\n",
    "\n",
    "\n",
    "def test_transform_functions(point_3d):\n",
    "    zero_rot = np.eye(3)\n",
    "    zero_t = np.zeros(3)\n",
    "    assert(np.all(np.isclose(transform(point_3d, zero_rot, zero_t), point_3d)))\n",
    "    \n",
    "    composed_rot, composed_t = compose_transforms(zero_rot, zero_t, zero_rot, zero_t)\n",
    "    assert(np.all(np.isclose(composed_rot, zero_rot)))\n",
    "    assert(np.all(np.isclose(composed_t, zero_t)))\n",
    "    \n",
    "    test_rot = np.array([[np.cos(-1), -np.sin(-1), 0], \n",
    "                         [np.sin(-1), np.cos(-1), 0],\n",
    "                         [0, 0, 1]])\n",
    "    test_t = np.array([92, 42, -21])\n",
    "    \n",
    "    composed_rot, composed_t = compose_transforms(zero_rot, zero_t, test_rot, test_t)\n",
    "    assert(np.all(np.isclose(composed_rot, test_rot)))\n",
    "    assert(np.all(np.isclose(composed_t, test_t)))\n",
    "    \n",
    "    composed_rot, composed_t = compose_transforms(test_rot, test_t, zero_rot, zero_t)\n",
    "    assert(np.all(np.isclose(composed_rot, test_rot)))\n",
    "    assert(np.all(np.isclose(composed_t, test_t)))\n",
    "\n",
    "    point_3d_transformed = transform(point_3d, test_rot, test_t)\n",
    "    test_rot_inv, test_t_inv = inverse_transform(test_rot, test_t)\n",
    "    assert(np.all(np.isclose(transform(point_3d_transformed, test_rot_inv, test_t_inv), point_3d)))\n",
    "    \n",
    "    test_2_rot, test_2_t = compose_transforms(test_rot, test_t, test_rot, test_t)\n",
    "    point_3d_transformed_2 = transform(point_3d, test_2_rot, test_2_t)\n",
    "    assert(np.all(np.isclose(transform(point_3d_transformed_2, test_rot_inv, test_t_inv), point_3d_transformed)))\n",
    "\n",
    "    \n",
    "test_transform_functions(np.array([0, 0, 0]))\n",
    "test_transform_functions(np.array([0, 1, 0]))\n",
    "test_transform_functions(np.array([-20, 22, 33]))"
   ]
  },
  {
   "cell_type": "markdown",
   "metadata": {},
   "source": [
    "# Задание 6\n",
    "Есть `camera` с известными параметрами. С помощью нее сделаны две фотографии одной 3D точки из разных 3D позиций `camera_rot1` и `camera_pos1`, `camera_rot2` и `camera_pos2`. \n",
    "3D точка попала в пиксель `image_point_1` в первом и в пиксель `image_point_2` во втором изображении.\n",
    "\n",
    "Функция `triangilate` должна вернуть 3D позицию этой 3D точки.\n",
    "\n",
    "\n",
    "*В тестах нету поворотов камеры*"
   ]
  },
  {
   "cell_type": "code",
   "execution_count": null,
   "metadata": {},
   "outputs": [],
   "source": [
    "def triangilate(camera: OpenCvCamera,\n",
    "                camera_rot1: np.array, camera_pos1: np.array,\n",
    "                camera_rot2: np.array, camera_pos2: np.array,\n",
    "                image_point_1: np.array, image_point_2: np.array):\n",
    "    pass\n"
   ]
  },
  {
   "cell_type": "code",
   "execution_count": null,
   "metadata": {},
   "outputs": [],
   "source": [
    "def test_triangulate(camera: OpenCvCamera,\n",
    "                     camera_pos1: np.array, camera_pos2: np.array,\n",
    "                     point_pos: np.array):\n",
    "    image_point_1 = camera.proj(point_pos - camera_pos1)\n",
    "    image_point_2 = camera.proj(point_pos - camera_pos2)\n",
    "    found_point_pos = triangilate(camera, \n",
    "                                  np.eye(3), camera_pos1, \n",
    "                                  np.eye(3), camera_pos2,\n",
    "                                  image_point_1, image_point_2)\n",
    "    print('found position: %s' % found_point_pos)\n",
    "    assert(np.all(np.isclose(point_pos, found_point_pos)))\n",
    "    \n",
    "test_triangulate(canon_6d_mark_ii_45,\n",
    "                 np.array([0, 0, 0]), np.array([0, 0.5, 0]),\n",
    "                 np.array([0, 0, 3]))\n",
    "test_triangulate(canon_6d_mark_ii_45,\n",
    "                 np.array([0, 0, 0]), np.array([0, 0.5, 0]),\n",
    "                 np.array([0, 0.1, 3]))\n",
    "test_triangulate(canon_6d_mark_ii_45,\n",
    "                 np.array([0, 0.3, -3]), np.array([0.3, 0.5, -2]),\n",
    "                 np.array([0.213, 0.211, 4.312]))\n",
    "\n",
    "# Этот тест не должен работать. Линии, соединяющие 3D точку с центрами камер параллельны. \n",
    "# Триангуляция в данном случае не возможна.\n",
    "# test_triangulate(canon_6d_mark_ii_45,\n",
    "#                  np.array([0, 0, -3]), np.array([0, 0, -2]),\n",
    "#                  np.array([0, 0, 4]))"
   ]
  },
  {
   "cell_type": "markdown",
   "metadata": {},
   "source": [
    "# Задание 7\n",
    "Есть `camera` с известными параметрами. С помощью нее сделана фотография нескольких 3D точек.\n",
    "3D точки `point_cloud` попали в пиксели `image_points`.\n",
    "\n",
    "Вы знаете что поворот камеры нулевой (`R = I`). \n",
    "\n",
    "Функция `find_camera_position` должна вернуть 3D позицию `camera` (вектор `t`), из которой при проекции точек `point_cloud` они попадут в пиксели `image_points`.\n",
    "\n",
    "*Подсказка: `np.linalg.lstsq`*"
   ]
  },
  {
   "cell_type": "code",
   "execution_count": null,
   "metadata": {},
   "outputs": [],
   "source": [
    "def find_camera_position(camera: OpenCvCamera, point_cloud: np.array, image_points: np.array):\n",
    "    pass\n",
    "\n",
    "\n",
    "\n",
    "def find_camera_position_test(camera, camera_pos):\n",
    "    N = 20\n",
    "    point_cloud = np.array([[p_idx / 2, (p_idx - N / 2) / 2, 10 * (p_idx / N) ** 2 + 20] for p_idx in range(N)])\n",
    "    image_points = np.array([camera.proj(point_cloud[p_idx, :] - camera_pos) for p_idx in range(N)])\n",
    "    found_pos = find_camera_position(camera, point_cloud, image_points)\n",
    "    assert(np.all(np.isclose(camera_pos, found_pos)))\n",
    "\n",
    "find_camera_position_test(canon_6d_mark_ii_45, np.array([0, 0, 0]))\n",
    "find_camera_position_test(canon_6d_mark_ii_45, np.array([0, 0, 1]))\n",
    "find_camera_position_test(canon_6d_mark_ii_45, np.array([-2, 0.231, -3.123]))"
   ]
  },
  {
   "cell_type": "markdown",
   "metadata": {},
   "source": [
    "# Задание 8*\n",
    "Есть `camera` с неизвестными параметрами (неточным `camera.f`). С помощью нее сделана фотография нескольких 3D точек.\n",
    "3D точки `point_cloud` попали в пиксели `image_points`.\n",
    "\n",
    "Вы знаете что поворот камеры нулевой (`R = I`). \n",
    "\n",
    "Функция `find_camera_position_and_internal_parameters` должна вернуть искомую 3D позицию `camera` (вектор `t`) и искомое значение `camera.f`."
   ]
  },
  {
   "cell_type": "code",
   "execution_count": null,
   "metadata": {},
   "outputs": [],
   "source": [
    "def find_camera_position_and_internal_parameters(camera: OpenCvCamera, point_cloud: np.array, image_points: np.array):\n",
    "    pass\n",
    "\n",
    "\n",
    "\n",
    "def find_camera_position_and_internal_parameters_test(camera, camera_pos):\n",
    "    N = 20\n",
    "    point_cloud = np.array([[p_idx / 2, (p_idx - N / 2) / 2, 10 * (p_idx / N) ** 2 + 20] for p_idx in range(N)])\n",
    "    image_points = np.array([camera.proj(point_cloud[p_idx, :] - camera_pos) for p_idx in range(N)])\n",
    "    optimal_f = camera.f\n",
    "    camera.f *= 1.2\n",
    "    found_pos, found_f = find_camera_position_and_internal_parameters(camera, point_cloud, image_points)\n",
    "    camera.f = optimal_f # just in case\n",
    "    assert(np.all(np.isclose(camera_pos, found_pos, atol=0.5)))\n",
    "    assert(np.all(np.isclose(optimal_f, found_f, atol=optimal_f/10)))\n",
    "\n",
    "find_camera_position_and_internal_parameters_test(canon_6d_mark_ii_45, np.array([0, 0, 0]))\n",
    "find_camera_position_and_internal_parameters_test(canon_6d_mark_ii_45, np.array([0, 0, 1]))\n",
    "find_camera_position_and_internal_parameters_test(canon_6d_mark_ii_45, np.array([-2, 0.231, -3.123]))"
   ]
  },
  {
   "cell_type": "code",
   "execution_count": null,
   "metadata": {},
   "outputs": [],
   "source": []
  }
 ],
 "metadata": {
  "kernelspec": {
   "display_name": "Python 3",
   "language": "python",
   "name": "python3"
  },
  "language_info": {
   "codemirror_mode": {
    "name": "ipython",
    "version": 3
   },
   "file_extension": ".py",
   "mimetype": "text/x-python",
   "name": "python",
   "nbconvert_exporter": "python",
   "pygments_lexer": "ipython3",
   "version": "3.7.3"
  }
 },
 "nbformat": 4,
 "nbformat_minor": 2
}
