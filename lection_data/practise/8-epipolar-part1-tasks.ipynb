{
 "cells": [
  {
   "cell_type": "code",
   "execution_count": 5,
   "metadata": {
    "pycharm": {
     "name": "#%%\n"
    }
   },
   "outputs": [],
   "source": [
    "import cv2\n",
    "import numpy as np\n",
    "import matplotlib.pyplot as plt\n",
    "from transforms3d.euler import euler2mat\n",
    "import colorsys\n",
    "\n",
    "%matplotlib inline\n",
    "plt.rcParams['figure.figsize'] = (10, 5)"
   ]
  },
  {
   "cell_type": "markdown",
   "metadata": {},
   "source": [
    "# Введение\n",
    "\n",
    "Продолжим работать с усеченной пирамидой с предыдущей практики:"
   ]
  },
  {
   "cell_type": "code",
   "execution_count": 6,
   "metadata": {
    "pycharm": {
     "name": "#%%\n"
    }
   },
   "outputs": [],
   "source": [
    "VERTICES_GT = np.array([\n",
    "    [-1.5, 1, -1.5],\n",
    "    [1.5, 1, -1.5],\n",
    "    [1.5, 1, 1.5],\n",
    "    [-1.5, 1, 1.5],\n",
    "    [-1, -1, -1],\n",
    "    [1, -1, -1],\n",
    "    [1, -1, 1],\n",
    "    [-1, -1, 1]\n",
    "])\n",
    "\n",
    "EPS = 1e-5"
   ]
  },
  {
   "cell_type": "markdown",
   "metadata": {},
   "source": [
    "Ширина и высота кадра, а также матрица проекции камеры `PROJ_MAT` $3\\times3$,\n",
    "которые будем использовать для отрисовки изображений:"
   ]
  },
  {
   "cell_type": "code",
   "execution_count": 7,
   "metadata": {
    "pycharm": {
     "name": "#%%\n"
    }
   },
   "outputs": [],
   "source": [
    "IMG_WIDTH = 800\n",
    "IMG_HEIGHT = 600\n",
    "\n",
    "fx = fy = 400\n",
    "cx = IMG_WIDTH / 2\n",
    "cy = IMG_HEIGHT / 2\n",
    "\n",
    "PROJ_MAT = np.array([\n",
    "    [fx, 0, cx],\n",
    "    [0, fy, cy],\n",
    "    [0, 0, 1]\n",
    "])"
   ]
  },
  {
   "cell_type": "markdown",
   "metadata": {},
   "source": [
    "Также воспользуемся вспомогательными функциями:"
   ]
  },
  {
   "cell_type": "code",
   "execution_count": 8,
   "metadata": {
    "pycharm": {
     "name": "#%%\n"
    }
   },
   "outputs": [],
   "source": [
    "def generate_colors(count):\n",
    "    hues = np.linspace(0, 1, count, endpoint=False)\n",
    "    colors = []\n",
    "    for h in hues:\n",
    "        colors.append(colorsys.hsv_to_rgb(h, 1, 1))\n",
    "    return colors\n",
    "\n",
    "\n",
    "VERTICES_COLORS = generate_colors(len(VERTICES_GT))\n",
    "\n",
    "def draw_pyramid(points2d, edge_color=(0, 1, 0), vertices_colors=VERTICES_COLORS):\n",
    "    img = np.zeros((IMG_HEIGHT, IMG_WIDTH, 3))\n",
    "    int_tuples = [tuple(map(int, p)) for p in points2d]\n",
    "    point_size = 5\n",
    "    edge_thickness = 2\n",
    "    edges = [\n",
    "        [0, 1],\n",
    "        [1, 2],\n",
    "        [2, 3],\n",
    "        [3, 0],\n",
    "        [4, 5],\n",
    "        [5, 6],\n",
    "        [6, 7],\n",
    "        [7, 4],\n",
    "        [0, 4],\n",
    "        [1, 5],\n",
    "        [2, 6],\n",
    "        [3, 7]\n",
    "    ]\n",
    "    for i, j in edges:\n",
    "        u = int_tuples[i]\n",
    "        v = int_tuples[j]\n",
    "        cv2.line(img, u, v, edge_color, edge_thickness)\n",
    "    for u, color in zip(int_tuples, vertices_colors):\n",
    "        cv2.circle(img, u, point_size, color, -1)\n",
    "    return img\n",
    "\n",
    "def project_points3d(points3d, pmat):\n",
    "    points4d = np.hstack((\n",
    "        points3d,\n",
    "        np.ones((points3d.shape[0], 1))\n",
    "    ))\n",
    "    points4d = (pmat @ points4d.T).T\n",
    "    points4d /= points4d[:, 2].reshape(-1, 1)\n",
    "    return points4d[:, :2]\n",
    "\n",
    "def rmat_and_tvec_to_mat3x4(rmat, tvec):\n",
    "    mat = np.zeros((3, 4))\n",
    "    mat[:, :3] = rmat\n",
    "    mat[:, 3] = tvec\n",
    "    return mat\n",
    "\n",
    "def camera_pose_3x4_to_view_mat(pose):\n",
    "    rmat_inv = pose[:, :3].T\n",
    "    tvec = -rmat_inv @ pose[:, 3]\n",
    "    return rmat_and_tvec_to_mat3x4(rmat_inv, tvec)\n",
    "\n",
    "def point_to_homogeneous(point):\n",
    "    return np.append(point, 1.0)"
   ]
  },
  {
   "cell_type": "markdown",
   "metadata": {},
   "source": [
    "# Задание 1\n",
    "\n",
    "1. Напишите функцию `compute_epipole_from_poses`, которая находит эпиполь на изображении камеры с позицией `camera_pos_1`, соответствующую позиции камеры `camera_pos_2`.\n",
    "2. Напишите функцию `draw_epipole` для отрисовки эпиполи с использованием функции `cv2.circle`.\n",
    "3. Поэкспериментируйте с различными позициями пары камер и посмотрите, куда будут перемещаться эпиполи на изображениях."
   ]
  },
  {
   "cell_type": "code",
   "execution_count": 9,
   "metadata": {
    "pycharm": {
     "name": "#%%\n"
    }
   },
   "outputs": [],
   "source": [
    "def compute_epipole_from_poses(camera_pos_1, camera_pos_2, proj_mat):\n",
    "    pass # TODO implement\n",
    "\n",
    "def draw_epipole(image, epipole, radius=5, color=(1, 1, 1)):\n",
    "    pass # TODO implement"
   ]
  },
  {
   "cell_type": "markdown",
   "metadata": {},
   "source": [
    "Рассмотрим пару изображений пирамиды, снятых на камеру в позициях `camera_pose_1` и `camera_pose_2`. Посчитаем эпиполи:"
   ]
  },
  {
   "cell_type": "code",
   "execution_count": 12,
   "metadata": {
    "pycharm": {
     "name": "#%%\n"
    }
   },
   "outputs": [],
   "source": [
    "camera_pose_1 = rmat_and_tvec_to_mat3x4(\n",
    "    euler2mat(0, 0, 0),\n",
    "    np.array([0, 0, -5]))\n",
    "view_proj_1 = PROJ_MAT @ camera_pose_3x4_to_view_mat(camera_pose_1)\n",
    "points2d_1 = project_points3d(VERTICES_GT, view_proj_1)\n",
    "img_1 = draw_pyramid(points2d_1)\n",
    "\n",
    "camera_pose_2 = rmat_and_tvec_to_mat3x4(\n",
    "    euler2mat(0, np.deg2rad(65.0), 0),\n",
    "    np.array([-4, 0, -5]))\n",
    "view_proj_2 = PROJ_MAT @ camera_pose_3x4_to_view_mat(camera_pose_2)\n",
    "points2d_2 = project_points3d(VERTICES_GT, view_proj_2)\n",
    "img_2 = draw_pyramid(points2d_2)\n",
    "\n",
    "\n",
    "epipole_1 = compute_epipole_from_poses(camera_pose_1, camera_pose_2, PROJ_MAT)\n",
    "epipole_2 = compute_epipole_from_poses(camera_pose_2, camera_pose_1, PROJ_MAT)\n",
    "assert np.linalg.norm(epipole_1 - np.array([-1600.0, 0.0, 0.0])) < EPS\n",
    "assert np.linalg.norm(epipole_2 - np.array([586.52306326, 300.0, 1.0])) < EPS"
   ]
  },
  {
   "cell_type": "code",
   "execution_count": null,
   "metadata": {
    "pycharm": {
     "is_executing": true,
     "name": "#%%\n"
    }
   },
   "outputs": [],
   "source": [
    "plt.imshow(draw_epipole(img_1, epipole_1))"
   ]
  },
  {
   "cell_type": "code",
   "execution_count": null,
   "metadata": {
    "pycharm": {
     "is_executing": true,
     "name": "#%%\n"
    }
   },
   "outputs": [],
   "source": [
    "plt.imshow(draw_epipole(img_2, epipole_2))"
   ]
  },
  {
   "cell_type": "code",
   "execution_count": 18,
   "metadata": {
    "pycharm": {
     "name": "#%%\n"
    }
   },
   "outputs": [],
   "source": [
    "camera_pose_1 = rmat_and_tvec_to_mat3x4(\n",
    "    euler2mat(0, 0, 0),\n",
    "    np.array([0, 0, -5]))\n",
    "view_proj_1 = PROJ_MAT @ camera_pose_3x4_to_view_mat(camera_pose_1)\n",
    "points2d_1 = project_points3d(VERTICES_GT, view_proj_1)\n",
    "img_1 = draw_pyramid(points2d_1)\n",
    "\n",
    "camera_pose_2 = rmat_and_tvec_to_mat3x4(\n",
    "    euler2mat(0, 0, 0),\n",
    "    np.array([0, 0, -7]))\n",
    "view_proj_2 = PROJ_MAT @ camera_pose_3x4_to_view_mat(camera_pose_2)\n",
    "points2d_2 = project_points3d(VERTICES_GT, view_proj_2)\n",
    "img_2 = draw_pyramid(points2d_2)\n",
    "epipole_1 = compute_epipole_from_poses(camera_pose_1, camera_pose_2, PROJ_MAT)\n",
    "epipole_2 = compute_epipole_from_poses(camera_pose_2, camera_pose_1, PROJ_MAT)"
   ]
  },
  {
   "cell_type": "code",
   "execution_count": null,
   "metadata": {
    "pycharm": {
     "is_executing": true,
     "name": "#%%\n"
    }
   },
   "outputs": [],
   "source": [
    "plt.imshow(draw_epipole(img_1, epipole_1))"
   ]
  },
  {
   "cell_type": "code",
   "execution_count": null,
   "metadata": {
    "pycharm": {
     "is_executing": true,
     "name": "#%%\n"
    }
   },
   "outputs": [],
   "source": [
    "plt.imshow(draw_epipole(img_2, epipole_2))"
   ]
  },
  {
   "cell_type": "markdown",
   "metadata": {},
   "source": [
    "    # Задание 2\n",
    "1. Напишите функцию `compute_epipolar_line_from_poses`, которая вычисляет эпиполярную линию на изображении первой камеры с позицией `camera_pos_1`, соответствующую точке `pnt2d_camera2` на изображении второй камеры с позицией `camera_pos_2`.\n",
    "Результатом функции должен быть кортеж (a, b, c) с коэффициентам уравнения этой линии $ax + by + c = 0$.\n",
    "2. Напишите функцию для отрисовки эпиполярных линий для набора точек `draw_epipolar_lines` с использованием функции `cv2.line`. Нарисуйте эпиполярные линии для уголков пирамиды.\n",
    "3. Поэкспериментируйте с различными позициями пары камер и посмотрите, куда будут перемещаться эпиполярные линии и эпиполи на изображениях."
   ]
  },
  {
   "cell_type": "code",
   "execution_count": 24,
   "metadata": {
    "pycharm": {
     "name": "#%%\n"
    }
   },
   "outputs": [],
   "source": [
    "def compute_epipolar_line_from_poses(camera_pos_1, camera_pos_2,\n",
    "                                     pnt2d_camera2, proj_mat):\n",
    "    pass # TODO implement\n",
    "\n",
    "\n",
    "def draw_epipolar_lines(image, lines):\n",
    "    pass # TODO implement"
   ]
  },
  {
   "cell_type": "code",
   "execution_count": null,
   "metadata": {
    "pycharm": {
     "is_executing": true,
     "name": "#%%\n"
    }
   },
   "outputs": [],
   "source": [
    "epipolar_lines_img_1 = [compute_epipolar_line_from_poses(\n",
    "    camera_pose_1, camera_pose_2, pt, PROJ_MAT) for pt in points2d_2]\n",
    "plt.imshow(draw_epipole(draw_epipolar_lines(\n",
    "    draw_pyramid(points2d_1), epipolar_lines_img_1), epipole_1))"
   ]
  },
  {
   "cell_type": "code",
   "execution_count": null,
   "metadata": {
    "pycharm": {
     "is_executing": true,
     "name": "#%%\n"
    }
   },
   "outputs": [],
   "source": [
    "epipolar_lines_img_2 = [compute_epipolar_line_from_poses(\n",
    "    camera_pose_2, camera_pose_1, pt, PROJ_MAT) for pt in points2d_1]\n",
    "plt.imshow(draw_epipole(draw_epipolar_lines(\n",
    "    draw_pyramid(points2d_2), epipolar_lines_img_2), epipole_2))"
   ]
  },
  {
   "cell_type": "markdown",
   "metadata": {},
   "source": [
    "# Задание 3\n",
    "1. Напишите функцию `compute_fundamental_mat_from_poses` для вычисления фундаментальной матрицы по известным позициям камеры `camera_pos_1` и `camera_pos_2`.\n",
    "2. Напишите функции `compute_epipole` и `compute_epipolar_line` для вычисления эпиполей и эпиполярных линий из фунднаментальной матрицы. Для этого воспользуйтесь свойствами фундаментальной матрицы."
   ]
  },
  {
   "cell_type": "code",
   "execution_count": 27,
   "metadata": {
    "pycharm": {
     "name": "#%%\n"
    }
   },
   "outputs": [],
   "source": [
    "def compute_fundamental_mat_from_poses(camera_pose_1, camera_pose_2, proj_mat):\n",
    "    pass # TODO implement\n",
    "\n",
    "def compute_epipole(f_mat):\n",
    "    pass # TODO implement\n",
    "\n",
    "def compute_epipolar_line(f_mat, point2d):\n",
    "    pass # TODO implement"
   ]
  },
  {
   "cell_type": "code",
   "execution_count": null,
   "metadata": {
    "pycharm": {
     "is_executing": true,
     "name": "#%%\n"
    }
   },
   "outputs": [],
   "source": [
    "f_mat1 = compute_fundamental_mat_from_poses(camera_pose_1, camera_pose_2, PROJ_MAT)\n",
    "epipolar_lines_img_1 = [compute_epipolar_line(f_mat1, pt) for pt in points2d_2]\n",
    "epipole_img_1 = compute_epipole(f_mat1.T)\n",
    "plt.imshow(draw_epipole(draw_epipolar_lines(\n",
    "    draw_pyramid(points2d_1), epipolar_lines_img_1), epipole_img_1))"
   ]
  },
  {
   "cell_type": "code",
   "execution_count": null,
   "metadata": {
    "pycharm": {
     "name": "#%%\n"
    }
   },
   "outputs": [],
   "source": [
    "f_mat2 = compute_fundamental_mat_from_poses(camera_pose_2, camera_pose_1, PROJ_MAT)\n",
    "epipolar_lines_img_2 = [compute_epipolar_line(f_mat2, pt) for pt in points2d_1]\n",
    "epipole_img_2 = compute_epipole(f_mat2.T)\n",
    "plt.imshow(draw_epipole(draw_epipolar_lines(\n",
    "    draw_pyramid(points2d_2), epipolar_lines_img_2), epipole_img_2))"
   ]
  },
  {
   "cell_type": "markdown",
   "metadata": {},
   "source": [
    "# Задание 4*\n",
    "1. Напишите функцию `compute_fundamental_mat` для вычисления фундаментальной матрицы по двумерным соответствиям `pnts2d_1` и `pnts2d_2`, используя уравнение эпиполярного ограничения.\n",
    "2. Сгенерируйте набор пар позиций камер, соответствующих различным относительным движениям между камерами: только параллельный перенос, только вращение, параллельный перенос вдоль плоскости камеры, параллельный перенос вдоль оси $Z$ камеры и т.п..\n",
    "3. Для полученных пар сгенерируйте изображения пирамиды и посчитайте фундаментальную матрицу на основе спроецированных уголков пирамиды.\n",
    "4. Посчитайте и нарисуйте эпиполи и эпиполярные линии для полученных фундаментальных матриц."
   ]
  },
  {
   "cell_type": "code",
   "execution_count": 26,
   "metadata": {
    "pycharm": {
     "name": "#%%\n"
    }
   },
   "outputs": [],
   "source": [
    "def compute_fundamental_mat(pnts2d_1, pnts2d_2):\n",
    "    pass # TODO implement\n"
   ]
  },
  {
   "cell_type": "markdown",
   "metadata": {},
   "source": [
    "# Задание 5*\n",
    "1. Добавьте шум к спроецированным уголкам пирамиды из предыдущего задания с помощью функции `add_noize_to_points` и посчитайте фундаментальные матрицы на полученных двумерных соответствиях.\n",
    "2. Посчитайте и нарисуйте эпиполи и эпиполярные линии для полученных фундаментальных матриц. Что с ними не так?\n",
    "3. Попробуйте предложить способ для исправления возникшей проблемы."
   ]
  },
  {
   "cell_type": "code",
   "execution_count": 27,
   "metadata": {
    "pycharm": {
     "name": "#%%\n"
    }
   },
   "outputs": [],
   "source": [
    "def add_noize_to_points(points, noise_scale):\n",
    "    return points + np.random.normal(scale=noise_scale, size=points.shape)"
   ]
  }
 ],
 "metadata": {
  "kernelspec": {
   "display_name": "Python 3 (ipykernel)",
   "language": "python",
   "name": "python3"
  },
  "language_info": {
   "codemirror_mode": {
    "name": "ipython",
    "version": 3
   },
   "file_extension": ".py",
   "mimetype": "text/x-python",
   "name": "python",
   "nbconvert_exporter": "python",
   "pygments_lexer": "ipython3",
   "version": "3.9.7"
  }
 },
 "nbformat": 4,
 "nbformat_minor": 1
}
