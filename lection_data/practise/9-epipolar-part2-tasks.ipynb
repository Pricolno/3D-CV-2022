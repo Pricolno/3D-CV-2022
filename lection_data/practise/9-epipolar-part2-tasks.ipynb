{
 "cells": [
  {
   "cell_type": "code",
   "execution_count": 24,
   "metadata": {
    "pycharm": {
     "name": "#%%\n"
    }
   },
   "outputs": [],
   "source": [
    "import cv2\n",
    "import numpy as np\n",
    "import matplotlib.pyplot as plt\n",
    "from transforms3d.euler import euler2mat\n",
    "import colorsys\n",
    "\n",
    "%matplotlib inline\n",
    "plt.rcParams['figure.figsize'] = (10, 5)"
   ]
  },
  {
   "cell_type": "markdown",
   "metadata": {},
   "source": [
    "# Введение\n",
    "На сегодняшней практике продолжим работать с фундаментальной матрицей.\n",
    "Для этого нам понадобится усеченной пирамидой с предыдущей практики:"
   ]
  },
  {
   "cell_type": "code",
   "execution_count": 25,
   "metadata": {
    "pycharm": {
     "name": "#%%\n"
    }
   },
   "outputs": [],
   "source": [
    "VERTICES_GT = np.array([\n",
    "    [-1.5, 1, -1.5],\n",
    "    [1.5, 1, -1.5],\n",
    "    [1.5, 1, 1.5],\n",
    "    [-1.5, 1, 1.5],\n",
    "    [-1, -1, -1],\n",
    "    [1, -1, -1],\n",
    "    [1, -1, 1],\n",
    "    [-1, -1, 1]\n",
    "])\n",
    "\n",
    "EPS = 1e-5"
   ]
  },
  {
   "cell_type": "markdown",
   "metadata": {},
   "source": [
    "Ширина и высота кадра, а также матрица проекции камеры `PROJ_MAT` $3\\times3$,\n",
    "которые будем использовать для отрисовки изображений:"
   ]
  },
  {
   "cell_type": "code",
   "execution_count": 26,
   "metadata": {
    "pycharm": {
     "name": "#%%\n"
    }
   },
   "outputs": [],
   "source": [
    "IMG_WIDTH = 800\n",
    "IMG_HEIGHT = 600\n",
    "\n",
    "fx = fy = 400\n",
    "cx = IMG_WIDTH / 2\n",
    "cy = IMG_HEIGHT / 2\n",
    "\n",
    "PROJ_MAT = np.array([\n",
    "    [fx, 0, cx],\n",
    "    [0, fy, cy],\n",
    "    [0, 0, 1]\n",
    "])"
   ]
  },
  {
   "cell_type": "markdown",
   "metadata": {},
   "source": [
    "Также воспользуемся вспомогательными функциями:"
   ]
  },
  {
   "cell_type": "code",
   "execution_count": 27,
   "metadata": {
    "pycharm": {
     "name": "#%%\n"
    }
   },
   "outputs": [],
   "source": [
    "def generate_colors(count):\n",
    "    hues = np.linspace(0, 1, count, endpoint=False)\n",
    "    colors = []\n",
    "    for h in hues:\n",
    "        colors.append(colorsys.hsv_to_rgb(h, 1, 1))\n",
    "    return colors\n",
    "\n",
    "\n",
    "VERTICES_COLORS = generate_colors(len(VERTICES_GT))\n",
    "\n",
    "def draw_pyramid(points2d, edge_color=(0, 1, 0), vertices_colors=VERTICES_COLORS):\n",
    "    img = np.zeros((IMG_HEIGHT, IMG_WIDTH, 3))\n",
    "    int_tuples = [tuple(map(int, p)) for p in points2d]\n",
    "    point_size = 5\n",
    "    edge_thickness = 2\n",
    "    edges = [\n",
    "        [0, 1],\n",
    "        [1, 2],\n",
    "        [2, 3],\n",
    "        [3, 0],\n",
    "        [4, 5],\n",
    "        [5, 6],\n",
    "        [6, 7],\n",
    "        [7, 4],\n",
    "        [0, 4],\n",
    "        [1, 5],\n",
    "        [2, 6],\n",
    "        [3, 7]\n",
    "    ]\n",
    "    for i, j in edges:\n",
    "        u = int_tuples[i]\n",
    "        v = int_tuples[j]\n",
    "        cv2.line(img, u, v, edge_color, edge_thickness)\n",
    "    for u, color in zip(int_tuples, vertices_colors):\n",
    "        cv2.circle(img, u, point_size, color, -1)\n",
    "    return img\n",
    "\n",
    "def project_points3d(points3d, pmat):\n",
    "    points4d = np.hstack((\n",
    "        points3d,\n",
    "        np.ones((points3d.shape[0], 1))\n",
    "    ))\n",
    "    points4d = (pmat @ points4d.T).T\n",
    "    points4d /= points4d[:, 2].reshape(-1, 1)\n",
    "    return points4d[:, :2]\n",
    "\n",
    "def rmat_and_tvec_to_mat3x4(rmat, tvec):\n",
    "    mat = np.zeros((3, 4))\n",
    "    mat[:, :3] = rmat\n",
    "    mat[:, 3] = tvec\n",
    "    return mat\n",
    "\n",
    "def camera_pose_3x4_to_view_mat(pose):\n",
    "    rmat_inv = pose[:, :3].T\n",
    "    tvec = -rmat_inv @ pose[:, 3]\n",
    "    return rmat_and_tvec_to_mat3x4(rmat_inv, tvec)\n",
    "\n",
    "def point_to_homogeneous(point):\n",
    "    return np.append(point, 1.0)"
   ]
  },
  {
   "cell_type": "markdown",
   "metadata": {},
   "source": [
    "Также воспользуемся методами для вычисления фундаментальной матрицы, эпиполей и эпиполярных линий из позиций камер, которые мы разобрали на предыдущей практике:"
   ]
  },
  {
   "cell_type": "code",
   "execution_count": 28,
   "metadata": {
    "pycharm": {
     "name": "#%%\n"
    }
   },
   "outputs": [],
   "source": [
    "\n",
    "def compute_epipole_from_poses(camera_pos_1, camera_pos_2, proj_mat):\n",
    "    view_proj_1 = proj_mat @ camera_pose_3x4_to_view_mat(camera_pos_1)\n",
    "    camera_center_2 = point_to_homogeneous(camera_pos_2[:, 3])\n",
    "\n",
    "    epipole = view_proj_1 @ camera_center_2\n",
    "    if np.abs(epipole[2]) < EPS:\n",
    "        epipole[2] = 0.0\n",
    "    else:\n",
    "        epipole /= epipole[2]\n",
    "    return epipole\n",
    "\n",
    "def draw_epipole(image, epipole, radius=5, color=(1, 1, 1)):\n",
    "    output_img = image.copy()\n",
    "    if epipole[2] < EPS:\n",
    "        return output_img\n",
    "    pt2d = tuple(epipole[:2].astype(int))\n",
    "    cv2.circle(output_img, pt2d, radius,\n",
    "               color, thickness=cv2.FILLED)\n",
    "    return output_img\n",
    "\n",
    "def compute_epipolar_line_from_poses(camera_pos_1, camera_pos_2,\n",
    "                                     pnt2d_camera2, proj_mat):\n",
    "    view_proj_2 = proj_mat @ camera_pose_3x4_to_view_mat(camera_pos_2)\n",
    "    view_proj_pseudo_inv_2 = view_proj_2.T @ np.linalg.inv(view_proj_2 @ view_proj_2.T)\n",
    "    pnt_on_ray = view_proj_pseudo_inv_2 @ point_to_homogeneous(pnt2d_camera2)\n",
    "\n",
    "    view_proj_1 = proj_mat @ camera_pose_3x4_to_view_mat(camera_pos_1)\n",
    "    pnt_on_epiline = view_proj_1 @ pnt_on_ray\n",
    "    pnt_on_epiline /= pnt_on_epiline[2]\n",
    "\n",
    "    epipole_1 = compute_epipole_from_poses(camera_pos_1, camera_pos_2, proj_mat)\n",
    "    line = np.cross(pnt_on_epiline[:3], epipole_1)\n",
    "    line /= np.linalg.norm(line)\n",
    "    return line\n",
    "\n",
    "def _draw_epipolar_line(image, line, thickness=2, color=(0.0, 0.0, 1.0)):\n",
    "    h, w = image.shape[:2]\n",
    "    pt1 = (0, int(-line[2] / line[1]))\n",
    "    pt2 = (w, int((-line[2] - line[0] * w) / line[1]))\n",
    "    cv2.line(image, pt1, pt2, color, thickness=thickness)\n",
    "\n",
    "def draw_epipolar_lines(image, lines):\n",
    "    output_img = image.copy()\n",
    "    for line in lines:\n",
    "        _draw_epipolar_line(output_img, line)\n",
    "    return output_img\n",
    "\n",
    "def compute_fundamental_mat_from_poses(camera_pose_1, camera_pose_2, proj_mat):\n",
    "    view_proj_1 = proj_mat @ camera_pose_3x4_to_view_mat(camera_pose_1)\n",
    "    view_proj_2 = proj_mat @ camera_pose_3x4_to_view_mat(camera_pose_2)\n",
    "    epipole_1 = compute_epipole_from_poses(camera_pose_1, camera_pose_2, proj_mat)\n",
    "    cross_mat = np.array([\n",
    "        [0.0, -epipole_1[2], epipole_1[1]],\n",
    "        [epipole_1[2], 0.0, -epipole_1[0]],\n",
    "        [-epipole_1[1], epipole_1[0], 0.0]\n",
    "    ])\n",
    "    view_proj_pseudo_inv_2 = view_proj_2.T @ np.linalg.inv((view_proj_2 @ view_proj_2.T))\n",
    "    f_mat = cross_mat @ view_proj_1 @ view_proj_pseudo_inv_2\n",
    "    f_mat /= f_mat[2, 2]\n",
    "    return f_mat\n",
    "\n",
    "def compute_epipole(f_mat):\n",
    "    u, s, v = np.linalg.svd(f_mat)\n",
    "    epipole = v[-1]\n",
    "\n",
    "    if np.abs(epipole[2]) < EPS:\n",
    "        epipole[2] = 0.0\n",
    "    else:\n",
    "        epipole /= epipole[2]\n",
    "    return epipole\n",
    "\n",
    "def compute_epipolar_line(f_mat, point2d):\n",
    "    line = f_mat @ point_to_homogeneous(point2d)\n",
    "    line /= np.linalg.norm(line)\n",
    "    return line\n"
   ]
  },
  {
   "cell_type": "code",
   "execution_count": 29,
   "metadata": {
    "pycharm": {
     "name": "#%% Рассмотрим 2 позиции камеры и изображение пирамиды, ссответствующее этим позициям:\n"
    }
   },
   "outputs": [],
   "source": [
    "camera_pose_1 = rmat_and_tvec_to_mat3x4(\n",
    "    euler2mat(np.deg2rad(-10.0), np.deg2rad(15.0), np.deg2rad(5.0)),\n",
    "    np.array([-1.0, 0.0, -4]))\n",
    "view_proj_1 = PROJ_MAT @ camera_pose_3x4_to_view_mat(camera_pose_1)\n",
    "points2d_1 = project_points3d(VERTICES_GT, view_proj_1)\n",
    "img_1 = draw_pyramid(points2d_1)\n",
    "\n",
    "camera_pose_2 = rmat_and_tvec_to_mat3x4(\n",
    "    euler2mat(np.deg2rad(-10.0), np.deg2rad(30.0), np.deg2rad(5.0)),\n",
    "    np.array([-4, -1.0, -5]))\n",
    "view_proj_2 = PROJ_MAT @ camera_pose_3x4_to_view_mat(camera_pose_2)\n",
    "points2d_2 = project_points3d(VERTICES_GT, view_proj_2)\n",
    "img_2 = draw_pyramid(points2d_2)\n",
    "\n"
   ]
  },
  {
   "cell_type": "markdown",
   "metadata": {
    "pycharm": {
     "name": "#%% md\n"
    }
   },
   "source": [
    "# Задание 1\n",
    "1. Используя функцию `compute_fundamental_mat_from_poses` посчитайте фундаментальную матрицу $F$ для пары камер в позициях `camera_pose_1` и `camera_pose_2`.\n",
    "2. Проверьте выполнение свойств фундаментальной матрицы:\n",
    "    - $F^T$ является фундаментальной матрицей для пары камер в позициях `camera_pose_2` и `camera_pose_1`\n",
    "    - $detF = 0$\n",
    "3. Посчитайте эпиполи и проверьте, что они являются нулями $F$"
   ]
  },
  {
   "cell_type": "code",
   "execution_count": 1,
   "metadata": {
    "pycharm": {
     "name": "#%%\n"
    }
   },
   "outputs": [],
   "source": [
    "# TODO implement"
   ]
  },
  {
   "cell_type": "markdown",
   "metadata": {},
   "source": [
    "# Задание 2\n",
    "1. Используйте функцию `cv2.findFundamentalMat` для вычисления фундаментальной матрицы по двумерным соответствиям `points2d_1` и `points2d_2`. Сравните результаты работы различных методов вычисления (7-точечный, 8-точечный, RANSAC).\n",
    "2. Добавьте шум к спроецированным уголкам пирамиды с помощью функции `add_noize_to_points` и используйте их для вычисления фундаментальной матрицы, эпиполей и эпиполярных линий.\n",
    "3. Нарисуйте эпиполи и эпиполярные линии и посмотрите, как они будут выглядеть в зависимости от значений шума.\n"
   ]
  },
  {
   "cell_type": "code",
   "execution_count": 31,
   "metadata": {
    "pycharm": {
     "name": "#%%\n"
    }
   },
   "outputs": [],
   "source": [
    "def add_noize_to_points(points, noise_scale):\n",
    "    return points + np.random.normal(scale=noise_scale, size=points.shape)"
   ]
  },
  {
   "cell_type": "code",
   "execution_count": null,
   "metadata": {
    "pycharm": {
     "is_executing": true,
     "name": "#%%\n"
    }
   },
   "outputs": [],
   "source": [
    "# TODO implement"
   ]
  },
  {
   "cell_type": "markdown",
   "metadata": {},
   "source": [
    "# Задание 3\n",
    "Используйте функцию `cv2.findEssentialMat` для вычисления существенной матрицы по двумерным соответствиям `points2d_1` и `points2d_2`. Сравните результаты работы различных методов вычисления."
   ]
  },
  {
   "cell_type": "code",
   "execution_count": null,
   "metadata": {
    "pycharm": {
     "is_executing": true,
     "name": "#%%\n"
    }
   },
   "outputs": [],
   "source": [
    "# TODO implement"
   ]
  },
  {
   "cell_type": "markdown",
   "metadata": {
    "pycharm": {
     "name": "#%% md\n"
    }
   },
   "source": [
    "# Задание 4\n",
    "1. Напишите функцию `compute_fundamental_mat` для вычисления фундаментальной матрицы по двумерным соответствиям.\n",
    "2. Напишите функци `compute_essential_mat` для вычисления фундаментальной матрицы по двумерным соответствиям."
   ]
  },
  {
   "cell_type": "code",
   "execution_count": 44,
   "metadata": {
    "pycharm": {
     "name": "#%%\n"
    }
   },
   "outputs": [],
   "source": [
    "def compute_fundamental_mat(pnts2d_1, pnts2d_2):\n",
    "    pass # TODO implement\n",
    "\n",
    "\n",
    "def compute_essential_mat(pnts2d_1, pnts2d_2, proj_mat):\n",
    "    pass # TODO implement"
   ]
  },
  {
   "cell_type": "markdown",
   "metadata": {
    "pycharm": {
     "name": "#%% md\n"
    }
   },
   "source": [
    "# Задание 5\n",
    "1. Воспользуйтесь функцией `cv2.findHomography` для вычисления гомографии между двумерными соответствиями.\n",
    "2. Поэкспериментируйте с различными позициями камеры и с различным уровнем шума и попробуйте отфильтровать вырожденные случаи с помощью фундаментальной матрицы."
   ]
  },
  {
   "cell_type": "code",
   "execution_count": null,
   "metadata": {
    "pycharm": {
     "name": "#%%\n"
    }
   },
   "outputs": [],
   "source": [
    "# TODO implement"
   ]
  },
  {
   "cell_type": "markdown",
   "metadata": {},
   "source": [
    "# Задание 6\n",
    "1. Напишите функцию `essential_mat_to_camera_view_matrices` для вычисления 4-х возможных матриц параметров камеры из существенной матрицы.\n",
    "2. Воспользуйтесь функцией `triangulate_points` для выбора одного из 4-х решений."
   ]
  },
  {
   "cell_type": "code",
   "execution_count": 22,
   "metadata": {
    "pycharm": {
     "name": "#%%\n"
    }
   },
   "outputs": [],
   "source": [
    "def _triangulate_point(points2d, view_proj_list):\n",
    "\n",
    "    m = np.vstack([[\n",
    "            point2d[0] * view_proj[3] - view_proj[0],\n",
    "            point2d[1] * view_proj[3] - view_proj[1],\n",
    "        ] for point2d, view_proj in zip(points2d, view_proj_list)])\n",
    "    u, s, vh = np.linalg.svd(m)\n",
    "    point3d = vh[-1, :].flatten()\n",
    "    return point3d[:3] / point3d[-1]\n",
    "\n",
    "\n",
    "def triangulate_points(points2d_1, points2d_2, camera_pose_1, camera_pose_2, proj_mat):\n",
    "    view_proj_1 = proj_mat @ np.linalg.inv(camera_pose_1)\n",
    "    view_proj_2 = proj_mat @ np.linalg.inv(camera_pose_2)\n",
    "    assert(len(points2d_1) == len(points2d_2))\n",
    "    points3d = []\n",
    "    for pt2d_1, pt2d_2 in zip(points2d_1, points2d_2):\n",
    "        pt3d = _triangulate_point([pt2d_1, pt2d_2], [view_proj_1, view_proj_2])\n",
    "        points3d.append(pt3d)\n",
    "\n",
    "    return np.array(points3d)\n",
    "\n",
    "\n",
    "def essential_mat_to_camera_view_matrices(e_mat):\n",
    "    pass # TODO\n"
   ]
  }
 ],
 "metadata": {
  "kernelspec": {
   "display_name": "Python 3 (ipykernel)",
   "language": "python",
   "name": "python3"
  },
  "language_info": {
   "codemirror_mode": {
    "name": "ipython",
    "version": 3
   },
   "file_extension": ".py",
   "mimetype": "text/x-python",
   "name": "python",
   "nbconvert_exporter": "python",
   "pygments_lexer": "ipython3",
   "version": "3.9.7"
  }
 },
 "nbformat": 4,
 "nbformat_minor": 1
}
