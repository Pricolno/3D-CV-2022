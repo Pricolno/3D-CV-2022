{
 "cells": [
  {
   "cell_type": "markdown",
   "metadata": {},
   "source": [
    "# Введение\n",
    "\n",
    "Есть много библиотек для работы с различными параметризациями поворотов. `Scipy.spatial.transform`, `Transforms3d`, `Pytransform3d`, `Numpy-quaternion`, `Blender.mathutils`.\n",
    "\n",
    "Мы будем использовать `scipy.spatial.transform`. Установите scipy, если еще не установлен `pip install scipy`"
   ]
  },
  {
   "cell_type": "code",
   "execution_count": null,
   "metadata": {},
   "outputs": [],
   "source": [
    "%pip install scipy numpy"
   ]
  },
  {
   "cell_type": "code",
   "execution_count": null,
   "metadata": {},
   "outputs": [],
   "source": [
    "import numpy as np\n",
    "from scipy.spatial.transform import Rotation\n",
    "from typing import List, Tuple"
   ]
  },
  {
   "cell_type": "markdown",
   "metadata": {},
   "source": [
    "Класс `scipy.spatial.transform.Rotation` представляет трехмерный поворот. В этом классе вы найдете методы для перевода поворотов из одной параметризации в другую и некоторые другие. Например метод для генерации случайных равномерно распределенных поворотов."
   ]
  },
  {
   "cell_type": "code",
   "execution_count": null,
   "metadata": {},
   "outputs": [],
   "source": [
    "# в более старых версиях scipy методы `from_matrix`, `as_matrix` называются `from_dcm`, `as_dcm`\n",
    "r = Rotation.from_matrix(np.eye(3))\n",
    "\n",
    "print('Identity поворот')\n",
    "print('в виде матрицы')\n",
    "print(r.as_matrix())\n",
    "print('углов Родрига')\n",
    "print(r.as_rotvec())\n",
    "print('кватерниона')\n",
    "print(r.as_quat())\n",
    "print('углов Эйлера (zyx)')\n",
    "print(r.as_euler('zyx', degrees=True))\n",
    "\n",
    "r = Rotation.from_euler('zyx', (0, 90, 0), degrees=True)\n",
    "print()\n",
    "print('Поворот вокруг оси y на 90 градусов')\n",
    "print('в виде матрицы')\n",
    "print(r.as_matrix())\n",
    "print('углов Родрига')\n",
    "print(r.as_rotvec())\n",
    "print('кватерниона')\n",
    "print(r.as_quat())\n",
    "print('углов Эйлера (zxy)')\n",
    "print(r.as_euler('zxy', degrees=True))\n",
    "print('углов Эйлера (zyx). Обратите внимание, это Gimbal Lock при таком порядке углов')\n",
    "print(r.as_euler('zyx', degrees=True))\n",
    "\n",
    "r = r * r\n",
    "print()\n",
    "print('Поворот вокруг оси y на 180 градусов')\n",
    "print('в виде матрицы')\n",
    "print(r.as_matrix())\n",
    "print('углов Родрига')\n",
    "print(r.as_rotvec())\n",
    "print('кватерниона')\n",
    "print(r.as_quat())\n",
    "print('углов Эйлера (zxy)')\n",
    "print(r.as_euler('zxy', degrees=True))\n",
    "print('углов Эйлера (zyx)')\n",
    "print(r.as_euler('zyx', degrees=True))"
   ]
  },
  {
   "cell_type": "markdown",
   "metadata": {},
   "source": [
    "Нам пригодятся методы применения трансформаций. Они переписаны чтобы использовать `Rotation` вместо матрицы поворота. Также `transform` теперь может принимать массив точек."
   ]
  },
  {
   "cell_type": "code",
   "execution_count": null,
   "metadata": {},
   "outputs": [],
   "source": [
    "def transform(points_3d: np.array, r: Rotation, t: np.array):\n",
    "    return r.apply(points_3d) + t\n",
    "\n",
    "def compose_transforms(r1: Rotation, t1: np.array, r2: Rotation, t2: np.array):\n",
    "    return r2 * r1, r2.apply(t1) + t2\n",
    "\n",
    "def inverse_transform(r: np.array, t: np.array):\n",
    "    return r.inv(), -r.inv().apply(t)"
   ]
  },
  {
   "cell_type": "markdown",
   "metadata": {},
   "source": [
    "# Задание 1\n",
    "\n",
    "Напишите 3 функции, которые возвращают интерполированные между двумя позициями `r1, t1` и `r2, t2` положения точек `points`. При `time == 0` точки толжны трансформироваться `r1, t1`, при `time == 1` – `r2, t2`\n",
    "\n",
    "- `interpolate_euler` – должна интерполировать поворот интерполируя углы Эйлера (в любом порядке. Например `zyx`)\n",
    "- `interpolate_lerp` – должна интерполировать поворот линейно интерполируя матрицы поворота. Обратите внимание, тут нельзя использовать класс `Rotation` т.к. интерполированные матрицы не будут матрицами поворота\n",
    "- `interpolate_slerp` – должна интерполировать поворот используя `Slerp`"
   ]
  },
  {
   "cell_type": "code",
   "execution_count": null,
   "metadata": {},
   "outputs": [],
   "source": [
    "from scipy.spatial.transform import Slerp\n",
    "\n",
    "\n",
    "def interpolate_euler(points: np.array, r1: Rotation, t1: np.array, r2: Rotation, t2: np.array, time: float) -> np.array:\n",
    "    pass\n",
    "\n",
    "def interpolate_lerp(points: np.array, r1: Rotation, t1: np.array, r2: Rotation, t2: np.array, time: float) -> np.array:\n",
    "    pass\n",
    "\n",
    "def interpolate_slerp(points: np.array, r1: Rotation, t1: np.array, r2: Rotation, t2: np.array, time: float) -> np.array:\n",
    "    pass\n"
   ]
  },
  {
   "cell_type": "markdown",
   "metadata": {},
   "source": [
    "Тут можно посмотреть как разные интерполяции выглядят в 3d."
   ]
  },
  {
   "cell_type": "code",
   "execution_count": null,
   "metadata": {},
   "outputs": [],
   "source": [
    "# случайное облако точек, половина точек растянута вдоль оси y, половина вроль оси x (должно выглядеть как крестик)\n",
    "points = np.random.normal(scale=1, size=(50, 3))\n",
    "points[points.shape[0] // 2:, 0] *= 2\n",
    "points[points.shape[0] // 2:, 1] /= 2\n",
    "points[:points.shape[0] // 2, 1] *= 4\n",
    "\n",
    "\n",
    "# можно поменять позиции чтобы посмотреть другие примеры\n",
    "r0, t0 = Rotation.from_euler('zyx', (60, -30, -20), degrees=True), np.array([0, 0, 0])\n",
    "r1, t1 = Rotation.from_euler('zyx', (-150, 0, 45), degrees=True), np.array([0, 0, 0])\n",
    "\n",
    "import matplotlib.pyplot as plt\n",
    "%matplotlib inline\n",
    "%matplotlib notebook\n",
    "plt.rcParams['figure.dpi'] = 110 # поменяйте значение чтобы поменять размер графика\n",
    "from ipywidgets import *\n",
    "import numpy as np\n",
    "import matplotlib.pyplot as plt\n",
    "\n",
    "fig = plt.figure()\n",
    "ax = fig.add_subplot(111, projection='3d')\n",
    "ax.set_xlim3d(-10, 10)\n",
    "ax.set_ylim3d(-10, 10)\n",
    "ax.set_zlim3d(-10, 10)\n",
    "colors = np.arange(points.shape[0]) / points.shape[0]\n",
    "graph = ax.scatter(points[:, 0], points[:, 1], points[:, 2], c=colors, cmap='hsv')\n",
    "\n",
    "def update(time, interpolation_function):\n",
    "    points_t = interpolation_function(points, r0, t0, r1, t1, time)\n",
    "    graph._offsets3d = (points_t[:, 0], points_t[:, 1], points_t[:, 2])\n",
    "    fig.canvas.draw_idle()\n",
    "\n",
    "interact(update,\n",
    "         time=(0.0, 1.0, 0.01),\n",
    "         interpolation_function=[('euler', interpolate_euler), ('lerp', interpolate_lerp), ('slerp', interpolate_slerp)])"
   ]
  },
  {
   "cell_type": "markdown",
   "metadata": {},
   "source": [
    "# Задание 2\n",
    "\n",
    "У вас есть наборы 3D точек `points1`, `points2`. Точек как минимум `3`.\n",
    "\n",
    "Напишите функцию `detect_transform`, которая по двум наборам 3D точек находит позицию `(r, t)`, которая переводит точки `points1` в точки `points2`. Тоесть `transform(points1, r, t)` близко к `points2`.\n",
    "\n",
    "Используйте функцию `Rotation.align_vectors(a, b)`. Она находит поворот `r`, такой что `||r.apply(b) - a|| -> min`.\n",
    "\n",
    "*Обратите внимание. `r.apply(b) - a`, а не `r.apply(a) - b`*"
   ]
  },
  {
   "cell_type": "code",
   "execution_count": null,
   "metadata": {},
   "outputs": [],
   "source": [
    "def detect_transform(points1: np.array, points2: np.array) -> Tuple[Rotation, np.array]:\n",
    "    pass\n",
    "\n",
    "\n",
    "def test_detect_transform(r, t, noise_scale):\n",
    "    points1 = np.array([[1, 0, 1],\n",
    "                        [-1, 0, 0],\n",
    "                        [1, 0, 0],\n",
    "                        [32, 21, 99]])\n",
    "    points2 = transform(points1, r, t) + np.random.normal(scale=noise_scale, size=points1.shape)\n",
    "    r_found, t_found = detect_transform(points1, points2)\n",
    "    points2_transformed = transform(points1, r_found, t_found)\n",
    "    assert(np.linalg.norm(points2 - points2_transformed) < 1e-3 + 10 * noise_scale)\n",
    "    \n",
    "test_detect_transform(Rotation.identity(), np.zeros(3), 0)\n",
    "test_detect_transform(Rotation.identity(), np.array([92, -2, -1.23456]), 1e-4)\n",
    "test_detect_transform(Rotation.from_euler('zyx', (0, 0, 90), degrees=True), np.zeros(3), 1e-3)\n",
    "test_detect_transform(Rotation.from_euler('xyz', (32, 12, -67), degrees=True), np.array([0, -3, -12]), 1e-3)"
   ]
  },
  {
   "cell_type": "markdown",
   "metadata": {},
   "source": [
    "# Задание 3\n",
    "RANSAC – алгоритм нахождения параметров модели по измерениям с выбросами.\n",
    "\n",
    "Если предпологать что в исходных данных не более `max_outliers_proportion` выбросов и для того чтобы построить гипотезу нужна выборка из `sample_size` измерений, то для фиксированного числа `iterations_count` можно посчитать вероятность того, что RANSAC найдет правильные параметры модели (построит хотябы одну гипотезу по инлаерам).\n",
    "\n",
    "- напишите функцию `calculate_ransac_success_probability`, которая считает вероятность успешной работы RANSAC\n",
    "- напишите функцию `calculate_ransac_iterations`, которая считает необходимое число итераций чтобы вероятность успешной работы RANSAC была не меньше `target_success_probability`"
   ]
  },
  {
   "cell_type": "code",
   "execution_count": null,
   "metadata": {},
   "outputs": [],
   "source": [
    "def calculate_ransac_success_probability(max_outliers_proportion: float,\n",
    "                                         sample_size: int,\n",
    "                                         iterations_count: int) -> float:\n",
    "    pass\n",
    "\n",
    "\n",
    "def calculate_ransac_iterations(max_outliers_proportion: float,\n",
    "                                sample_size: int,\n",
    "                                target_success_probability: float) -> int:\n",
    "    pass\n",
    "\n",
    "\n",
    "assert(np.isclose(calculate_ransac_success_probability(0.5, 1, 1), 0.5))\n",
    "assert(np.isclose(calculate_ransac_success_probability(0.5, 2, 3), 0.578125))\n",
    "assert(calculate_ransac_iterations(0.6, 1, 0.2) == 1)\n",
    "assert(calculate_ransac_iterations(0.6, 7, 0.2) == 137)\n",
    "assert(np.isclose(calculate_ransac_success_probability(0.5, 2, calculate_ransac_iterations(0.5, 2, 0.9924)),\n",
    "                  0.9924, \n",
    "                  atol=1e-3))"
   ]
  },
  {
   "cell_type": "markdown",
   "metadata": {},
   "source": [
    "RANSAC сильно помогает в случаях когда в исходных данных имеются выбросы. А в реальных данных такое встречается часто.\n",
    "\n",
    "RANSAC так же может быть узким местом в смысле производительности."
   ]
  },
  {
   "cell_type": "code",
   "execution_count": null,
   "metadata": {},
   "outputs": [],
   "source": [
    "target_p = 0.999\n",
    "print('Хочется чтобы вероятность что RANSAC сойдется была велика. Например %0.1f%%' % (target_p * 100, ))\n",
    "\n",
    "target_outliers = 0.5\n",
    "print('Также хочется чтобы RANSAC справлялся при как можно большей долей возможных выбросов. Например %0.1f%%' % \n",
    "      (target_outliers * 100, ))\n",
    "\n",
    "print('')\n",
    "print('Для алгоритма поиска линии, где гипотеза строится по 2 измерениям, \\n'\n",
    "      'нужно всего %d итераций чтобы получить требуемые параметры\\n' %\n",
    "      calculate_ransac_iterations(target_outliers, 2, target_p))\n",
    "\n",
    "print('Для алгоритма поиска 3d позиции по 3d-3d соответствиям, '\n",
    "      'где гипотеза строится по 3 измерениям, \\n'\n",
    "      'нужно уже %d итераций чтобы получить требуемые параметры\\n' %\n",
    "      calculate_ransac_iterations(target_outliers, 3, target_p))\n",
    "\n",
    "print('Для алгоритма поиска 3d позиции камеры по 3d-2d соответствиям, '\n",
    "      'где гипотеза строится по 4 измерениям, \\n'\n",
    "      'нужно %d итераций чтобы получить требуемые параметры\\n' %\n",
    "      calculate_ransac_iterations(target_outliers, 4, target_p))\n",
    "\n",
    "target_outliers_2 = 0.75\n",
    "print('А если считать что выбросов может быть %0.1f%%, нужно %d итераций\\n' %\n",
    "      (target_outliers_2 * 100, calculate_ransac_iterations(target_outliers_2, 4, target_p)))\n",
    "\n",
    "print('При этом если для построения гипотезы нужна бОльшая выборка, например 7, нужно %d итераций\\n' %\n",
    "      calculate_ransac_iterations(target_outliers_2, 7, target_p))"
   ]
  },
  {
   "cell_type": "markdown",
   "metadata": {},
   "source": [
    "# Задание 4\n",
    "\n",
    "У вас есть все необходимые методы для того чтобы написать устойчивый к выбросам метод `detect_transform_ransac`.\n",
    "\n",
    "Используйте `detect_transform` на случайных выборках из `points1`, `points2` чтобы строить гипотезу `r, t`. Используйте `find_inliers` чтобы находить инлаеров для построенной гипотезы.\n",
    "\n",
    "`detect_transform_ransac` должен строить ровно `iterations_count` гипотез по выборкам размера `sample_size` и возвращать лучшую найденную гипотезу вместе с маской инлаеров для нее: `r_best, t_best, inliers_mask_best = detect_transform_ransac(...)`"
   ]
  },
  {
   "cell_type": "code",
   "execution_count": null,
   "metadata": {},
   "outputs": [],
   "source": [
    "def find_inliers(points1: np.array, points2: np.array, r: Rotation, t: np.array, eps=1e-2) -> np.array:\n",
    "    return np.linalg.norm(transform(points1, r, t) - points2, axis=1) < eps"
   ]
  },
  {
   "cell_type": "code",
   "execution_count": null,
   "metadata": {},
   "outputs": [],
   "source": [
    "def detect_transform_ransac(points1: np.array,\n",
    "                            points2: np.array,\n",
    "                            sample_size: int, iterations_count: int) -> Tuple[Rotation, np.array, np.array]:\n",
    "    pass\n",
    "\n",
    "\n",
    "def test_detect_transform_ransac(r, t, inliers_ratio, sample_size, iterations_count, noise_scale=1e-3):\n",
    "    points_count = 1000\n",
    "    inliers_count = int(points_count * inliers_ratio)\n",
    "    outliers_count = points_count - inliers_count\n",
    "    \n",
    "    expected_succ_chance = calculate_ransac_success_probability(1 - inliers_ratio, sample_size, iterations_count)\n",
    "    print('RANSAC with %d inliers and %d outliers, sample size %d and %d iterations '\n",
    "          'has %2.2f%% probability to succeed' % \n",
    "          (inliers_count, outliers_count, sample_size, iterations_count, expected_succ_chance * 100))\n",
    "    \n",
    "    points1_inliers = np.random.normal(size=(inliers_count, 3))\n",
    "    points2_inliers = transform(points1_inliers, r, t) + np.random.normal(scale=noise_scale, size=points1_inliers.shape)\n",
    "    points1_outliers = np.random.normal(size=(outliers_count, 3))\n",
    "    points2_outliers = np.random.normal(size=(outliers_count, 3))\n",
    "    \n",
    "    shuffle_idxs = np.arange(points_count)\n",
    "    np.random.shuffle(shuffle_idxs)\n",
    "    points1 = np.concatenate([points1_inliers, points1_outliers])[shuffle_idxs]\n",
    "    points2 = np.concatenate([points2_inliers, points2_outliers])[shuffle_idxs]\n",
    "    \n",
    "    print('\\trunning detect_transform on inliers + outliers')\n",
    "    r_found, t_found = detect_transform(points1, points2)\n",
    "    error_norm = np.linalg.norm(points2_inliers - transform(points1_inliers, r_found, t_found))\n",
    "    print('\\tfound solution error norm is %0.3f' % error_norm)\n",
    "    \n",
    "    print('\\trunning RANSAC')\n",
    "    r_found, t_found, inliers_mask = detect_transform_ransac(points1, points2, sample_size, iterations_count)\n",
    "    \n",
    "    inliers_found = np.count_nonzero(inliers_mask)\n",
    "    print('\\tsolution with %d inliers found' % inliers_found)\n",
    "    if inliers_found < inliers_count:\n",
    "        print('\\tRANSAC failed!')\n",
    "        return\n",
    "    \n",
    "    error_norm = np.linalg.norm(points2_inliers - transform(points1_inliers, r_found, t_found))\n",
    "    print('\\tfound solution error norm is %0.3f' % error_norm)\n",
    "    assert(error_norm < 1e-1 + 100 * noise_scale)\n",
    "    \n",
    "    print('\\trunning detect_transform on inliers')\n",
    "    r_found, t_found = detect_transform(points1[np.where(inliers_mask)], points2[np.where(inliers_mask)])\n",
    "    error_norm = np.linalg.norm(points2_inliers - transform(points1_inliers, r_found, t_found))\n",
    "    print('\\tfound solution error norm is %0.3f' % error_norm)\n",
    "    assert(error_norm < 1e-2 + 100 * noise_scale)\n",
    "\n",
    "\n",
    "\n",
    "print('This one should work OK:')\n",
    "test_detect_transform_ransac(Rotation.from_euler('xyz', (1, -2, -0.32)), np.array([1, -3.4, 9]), 0.5, 4, 100)\n",
    "\n",
    "print('')\n",
    "print('This one may not work OK:')\n",
    "test_detect_transform_ransac(Rotation.from_euler('xyz', (1, -2, -0.32)), np.array([1, -3.4, 9]), 0.5, 10, 100)"
   ]
  },
  {
   "cell_type": "markdown",
   "metadata": {},
   "source": [
    "# Задание 5*\n",
    "\n",
    "Мы хотим оценить качество работы алгоритма отслеживания камеры. Результатом работы алгоритма отслеживания камеры является путь камеры в некоторой сцене – список пар `r, t` позиций камеры в каждом кадре.\n",
    "\n",
    "`track1` – это *правильный* путь камеры (например полученный измерением реального положения камеры во время съемки, либо полученный с помощью *эталонного* алгоритма отслеживания камеры)\n",
    "\n",
    "`track2` – это посчитанный алгоритмом путь камеры\n",
    "\n",
    "Напишите функцию `compare_tracks`, которая возвращает число `float >= 0` – *некую* ошибку(разницу) между `track1`, `track2`. Если два пути одинаковые то `compare_tracks` должна возвращать 0. \n",
    "\n",
    "Гарантируется что\n",
    "- `len(track1) == len(track2)`\n",
    "- `len(track1) >= 4`\n",
    "- оба пути имеют ненулевую длину\n",
    "\n",
    "Обратите внимание что\n",
    "- `track1`, `track2` могут иметь разный масштаб (т.к. алгоритм отслеживания камеры не может определить масштаб сцены)\n",
    "- `track1`, `track2` могут начинаються из разной позиции\n",
    "- разный масштаб не должен влиять на значение `compare_tracks`"
   ]
  },
  {
   "cell_type": "code",
   "execution_count": null,
   "metadata": {},
   "outputs": [],
   "source": [
    "def compare_tracks(track1: List[Tuple[Rotation, np.array]],\n",
    "                   track2: List[Tuple[Rotation, np.array]]) -> float:\n",
    "    pass\n",
    "\n",
    "\n",
    "track_len = 10\n",
    "track1 = [(Rotation.from_euler('zyx', (10, -2 * i, i), degrees=True), \n",
    "           np.array([i / track_len * 10 - 5, 2, (i / track_len) ** 2]))\n",
    "          for i in range(track_len)]\n",
    "track2 = track1[:]\n",
    "\n",
    "same_track_error = compare_tracks(track1, track2)\n",
    "assert(np.isclose(same_track_error, 0))\n",
    "\n",
    "track2 = [(r, t * 3) for r, t in track2]\n",
    "same_track_different_scale_error = compare_tracks(track1, track2)\n",
    "assert(np.isclose(same_track_different_scale_error, 0, atol=1e-3))\n",
    "\n",
    "offset_r = Rotation.from_euler('zyx', (0, 1, 0.2))\n",
    "offset_t = np.ones(3)\n",
    "track2 = [compose_transforms(r, t, offset_r, offset_t) for r, t in track2]\n",
    "same_track_different_scale_and_pos_error = compare_tracks(track1, track2)\n",
    "assert(np.isclose(same_track_different_scale_and_pos_error, 0, atol=1e-3))\n",
    "\n",
    "track2[track_len // 2] = (track2[track_len // 2][0], track2[track_len // 2][1] + np.array([1, 0, 0.2]))\n",
    "one_frame_wrong_t_error = compare_tracks(track1, track2)\n",
    "assert(one_frame_wrong_t_error > 0 and not np.isclose(one_frame_wrong_t_error, 0))\n",
    "\n",
    "track2[track_len // 3] = compose_transforms(offset_r, np.zeros(3),\n",
    "                                            track2[track_len // 3][0], track2[track_len // 3][1])\n",
    "two_frame_wrong_r_t_error = compare_tracks(track1, track2)\n",
    "assert(two_frame_wrong_r_t_error > one_frame_wrong_t_error)"
   ]
  },
  {
   "cell_type": "code",
   "execution_count": null,
   "metadata": {},
   "outputs": [],
   "source": []
  }
 ],
 "metadata": {
  "kernelspec": {
   "display_name": "Python 3 (ipykernel)",
   "language": "python",
   "name": "python3"
  },
  "language_info": {
   "codemirror_mode": {
    "name": "ipython",
    "version": 3
   },
   "file_extension": ".py",
   "mimetype": "text/x-python",
   "name": "python",
   "nbconvert_exporter": "python",
   "pygments_lexer": "ipython3",
   "version": "3.9.7"
  }
 },
 "nbformat": 4,
 "nbformat_minor": 2
}
